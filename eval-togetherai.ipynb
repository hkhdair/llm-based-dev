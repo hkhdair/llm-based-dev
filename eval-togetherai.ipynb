{
 "cells": [
  {
   "cell_type": "code",
   "execution_count": 2,
   "metadata": {},
   "outputs": [],
   "source": [
    "from openai import OpenAI\n",
    "from os import getenv\n",
    "\n",
    "from dotenv import load_dotenv\n",
    "\n",
    "load_dotenv()\n",
    "\n",
    "\n",
    "TOGETHER_API_KEY = getenv(\"TOGETHER_API_KEY\")\n",
    "\n",
    "client = OpenAI(\n",
    "  base_url='https://api.together.xyz',\n",
    "  api_key=TOGETHER_API_KEY,\n",
    ")"
   ]
  },
  {
   "cell_type": "code",
   "execution_count": 3,
   "metadata": {},
   "outputs": [
    {
     "name": "stdout",
     "output_type": "stream",
     "text": [
      " Okay, let's break this down step by step:\n",
      "\n",
      "1. You have two T-shirts.\n",
      "2. You give one to your brother, so now you have one T-shirt, and your brother has one T-shirt.\n",
      "3. You sell the remaining T-shirt, so now you have no T-shirts.\n",
      "4. You buy another T-shirt, so now you have one T-shirt.\n",
      "5. Your brother takes the T-shirt you just bought, so now you have no T-shirts, and your brother has two T-shirts (the one you gave him earlier and the one he took from you).\n",
      "6. Your brother gives you a hoodie and pants, but that doesn't change the number of T-shirts he has.\n",
      "\n",
      "Therefore, at the end of the sequence, your brother has two T-shirts.\n"
     ]
    }
   ],
   "source": [
    "chat_completion = client.chat.completions.create(\n",
    "  messages=[\n",
    "    # {\n",
    "    #   \"role\": \"system\",\n",
    "    #   \"content\": \"You are an AI assistant\",\n",
    "    # },\n",
    "    {\n",
    "      \"role\": \"user\",\n",
    "      \"content\": \"\"\"\n",
    "      I had two T-shirts, I gave one to my brother, then I sold the other one, and I bought another T-shirt, my brother took it, and he gave me a hoodie and pants. How many T-shirts does my brother have?\n",
    "      \"\"\",\n",
    "    }\n",
    "  ],\n",
    "  model=\"meta-llama/Llama-2-70b-chat-hf\",\n",
    "  # max_tokens=1024\n",
    ")\n",
    "\n",
    "print(chat_completion.choices[0].message.content)"
   ]
  },
  {
   "cell_type": "code",
   "execution_count": 4,
   "metadata": {},
   "outputs": [
    {
     "name": "stdout",
     "output_type": "stream",
     "text": [
      " Sound is not faster than light. In fact, the speed of sound is much slower than the speed of light.\n",
      "\n",
      "The speed of sound in air is approximately 343 meters per second (m/s), while the speed of light in a vacuum is approximately 299,792,458 m/s. This means that light travels at a speed that is more than a million times faster than the speed of sound.\n",
      "\n",
      "The reason for this difference in speed is due to the nature of the two phenomena. Sound is a mechanical wave that propagates through a medium, such as air or water, by the back-and-forth motion of the particles in the medium. The speed of sound is limited by the properties of the medium it is traveling through, such as its density and elasticity.\n",
      "\n",
      "On the other hand, light is an electromagnetic wave that propagates through a vacuum without the need for a medium. The speed of light is a fundamental constant of the universe and is not dependent on the properties of any medium it may pass through.\n",
      "\n",
      "In summary, sound is not faster than light, but rather much slower. The speed of sound is limited by the properties of the medium it travels through, while the speed of light is a fundamental constant that is not dependent on any medium.\n"
     ]
    }
   ],
   "source": [
    "completion = client.chat.completions.create(\n",
    "  model=\"meta-llama/Llama-2-70b-chat-hf\",\n",
    "  messages=[\n",
    "    # {\"role\": \"system\", \"content\": \"You are a helpful assistant. Be professional, use academic writing, be constructive, consise and clear. Do not use informal language or slang.\"},\n",
    "    {\"role\": \"user\", \"content\": \"\"\"Why sound is much faster than light?\n",
    "     \"\"\"},\n",
    "  ],\n",
    ")\n",
    "print(completion.choices[0].message.content)"
   ]
  },
  {
   "cell_type": "code",
   "execution_count": null,
   "metadata": {},
   "outputs": [],
   "source": []
  }
 ],
 "metadata": {
  "kernelspec": {
   "display_name": "torch",
   "language": "python",
   "name": "python3"
  },
  "language_info": {
   "codemirror_mode": {
    "name": "ipython",
    "version": 3
   },
   "file_extension": ".py",
   "mimetype": "text/x-python",
   "name": "python",
   "nbconvert_exporter": "python",
   "pygments_lexer": "ipython3",
   "version": "0.0.0"
  }
 },
 "nbformat": 4,
 "nbformat_minor": 2
}
